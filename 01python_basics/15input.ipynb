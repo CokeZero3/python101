{
 "metadata": {
  "language_info": {
   "codemirror_mode": {
    "name": "ipython",
    "version": 3
   },
   "file_extension": ".py",
   "mimetype": "text/x-python",
   "name": "python",
   "nbconvert_exporter": "python",
   "pygments_lexer": "ipython3",
   "version": "3.7.9-final"
  },
  "orig_nbformat": 2,
  "kernelspec": {
   "name": "python3",
   "display_name": "Python 3",
   "language": "python"
  }
 },
 "nbformat": 4,
 "nbformat_minor": 2,
 "cells": [
  {
   "cell_type": "code",
   "execution_count": 34,
   "metadata": {},
   "outputs": [
    {
     "output_type": "stream",
     "name": "stdout",
     "text": [
      "<class 'int'>\n"
     ]
    }
   ],
   "source": [
    "#8-1 표준입출력\n",
    "\n",
    "\"\"\"\n",
    "print(\"Python\", \"Java\", sep=\",\")#, end=\"?\")\n",
    "print(\"무엇이 더 재밌을까요?\")\n",
    "\"\"\"\n",
    "\n",
    "import sys\n",
    "\n",
    "# print(\"Python\", \"Java\", file = sys.stdout)\n",
    "# print(\"Python\", \"Java\", file = sys.stderr)\n",
    "\"\"\"\n",
    "scores = {\"수학\":0, \"영어\":50, \"코딩\":100}\n",
    "for subject, score in scores.items():\n",
    "    print(subject.ljust(1), str(score).rjust(5), sep=\":\")\n",
    "\"\"\"\n",
    "\n",
    "\"\"\"\n",
    "#은행 대기 순번표\n",
    "#001, 002, 003, ...\n",
    "for num in range(1, 21):\n",
    "    print(\"대기번호 : \" + str(num).zfill(3)) #zfill (빈공간에 0으로 채워넣기)\n",
    "\"\"\"\n",
    "\n",
    "# answer = 10\n",
    "# answer = input(\"아무 값이나 입력하세요: \")\n",
    "# print(\"입력하신 값은 \"+answer+\"입니다.\")\n",
    "\n",
    "\n",
    "\n",
    "print(type(answer))"
   ]
  },
  {
   "cell_type": "code",
   "execution_count": 65,
   "metadata": {},
   "outputs": [
    {
     "output_type": "stream",
     "name": "stdout",
     "text": [
      "       500\n      +500\n      +500\n      -500\n500_______\n_______500\n+100,000,000,000\n+100,000,000,000\n-100,000,000,000\n+100,000,000,000^^^^^^^^^^^^^^\n1.67\n"
     ]
    }
   ],
   "source": [
    "#8-2 다양한 출력폼\n",
    "\n",
    "#01 빈자리는 빈공간으로 두고, 오른쪽 정렬을 하되, 총 10자리 공간을 확보\n",
    "print(\"{0:>10}\".format(500))\n",
    "print(\"{0:>+10}\".format(500))\n",
    "\n",
    "#양수일 땐 +, 음수일 땐 -로 표시\n",
    "print(\"{0:>+10}\".format(500))\n",
    "print(\"{0:>+10}\".format(-500))\n",
    "\n",
    "#왼쪽 정렬하고, 빈칸을 _로 채움\n",
    "print(\"{0:_<10}\".format(500))\n",
    "#오른쪽 정렬하고, 빈칸을 _로 채움\n",
    "print(\"{0:_>10}\".format(500))\n",
    "\n",
    "#3자리 마다 콤마 찍어주기, +- 부호도 붙이기\n",
    "print(\"{0:+,}\".format(100000000000))\n",
    "#3자리 마다 콤마 찍어주기, +- 부호도 붙이기\n",
    "print(\"{0:+,}\".format(100000000000))\n",
    "print(\"{0:+,}\".format(-100000000000))\n",
    "#3자리 마다 콤마, 부호, 자릿수 확보하기\n",
    "#돈 많으면 행복하니까 빈 자리는 ^로 채워주기\n",
    "print(\"{0:^<+30,}\".format(100000000000))\n",
    "\n",
    "#소수점 출력\n",
    "print(\"{0:.2f}\".format(5/3)) #\"{0:.nf}\" n= 소수점 자리\n"
   ]
  },
  {
   "cell_type": "code",
   "execution_count": 105,
   "metadata": {},
   "outputs": [
    {
     "output_type": "stream",
     "name": "stdout",
     "text": [
      "수학: 0\n영어: 50\n과학: 80\n코딩: 100"
     ]
    }
   ],
   "source": [
    "#8-3 파일 입출력\n",
    "\n",
    "\"\"\"\n",
    "#\"w\" = write\n",
    "score_file = open(\"score.txt\", \"w\", encoding=\"utf-8\")\n",
    "print(\"수학: 0\", file=score_file)\n",
    "print(\"영어: 50\", file=score_file)\n",
    "score_file.close()\n",
    "\"\"\"\n",
    "\n",
    "\"\"\"\n",
    "#\"a\" = append (더하다)\n",
    "score_file = open(\"score.txt\", \"a\", encoding=\"utf-8\")\n",
    "score_file.write(\"\\n과학: 80\")\n",
    "score_file.write(\"\\n코딩: 100\")\n",
    "\"\"\"\n",
    "\n",
    "\"\"\"\n",
    "#\"r\" = read\n",
    "score_file = open(\"score.txt\", \"r\", encoding=\"utf-8\")\n",
    "print(score_file.read())\n",
    "score_file.close()\n",
    "\"\"\"\n",
    "\n",
    "\"\"\"\n",
    "score_file = open(\"score.txt\", \"r\", encoding=\"utf-8\")\n",
    "print(score_file.readline()) #줄별로 읽기, 한 줄 읽고 커서는 다음주 줄로 이동\n",
    "print(score_file.readline()) #줄별로 읽기, 한 줄 읽고 커서는 다음주 줄로 이동\n",
    "print(score_file.readline()) #줄별로 읽기, 한 줄 읽고 커서는 다음주 줄로 이동\n",
    "print(score_file.readline()) #줄별로 읽기, 한 줄 읽고 커서는 다음주 줄로 이동\n",
    "score_file.close()\n",
    "\"\"\"\n",
    "\n",
    "#몇 줄인지 모를 때\n",
    "\"\"\"score_file = open(\"score.txt\", \"r\", encoding=\"utf-8\")\n",
    "while True:\n",
    "    line = score_file.readline()\n",
    "    if not line:\n",
    "        break\n",
    "    print(line, end=\"\")\n",
    "score_file.close()\"\"\"\n",
    "\n",
    "score_file = open(\"score.txt\", \"r\", encoding=\"utf-8\")\n",
    "lines = score_file.readlines() #list 형태로 저장\n",
    "for line in lines:\n",
    "    print(line, end=\"\")\n",
    "\n",
    "score_file.close()"
   ]
  },
  {
   "cell_type": "code",
   "execution_count": 5,
   "metadata": {},
   "outputs": [
    {
     "output_type": "stream",
     "name": "stdout",
     "text": [
      "{'이름': '박명수', '나이': 30, '취미': ['축구', '골프', '코딩']}\n"
     ]
    }
   ],
   "source": [
    "#8-4 pickle\n",
    "import pickle\n",
    "\n",
    "\"\"\"\n",
    "profile_file = open(\"profile.pickle\", \"wb\")\n",
    "profile = {\"이름\":\"박명수\", \"나이\":30,\"취미\":[\"축구\",\"골프\",\"코딩\"]}\n",
    "print(profile)\n",
    "pickle.dump(profile, profile_file) #profile에 있는 정보를 file에 저장\n",
    "profile_file.close()\n",
    "\"\"\"\n",
    "\n",
    "profile_file = open(\"profile.pickle\", \"rb\")\n",
    "profile = pickle.load(profile_file) #file에 있는 정보를 profile에 불러오기\n",
    "print(profile)\n",
    "profile_file.close()\n"
   ]
  },
  {
   "cell_type": "code",
   "execution_count": 10,
   "metadata": {},
   "outputs": [
    {
     "output_type": "stream",
     "name": "stdout",
     "text": [
      "{'이름': '박명수', '나이': 30, '취미': ['축구', '골프', '코딩']}\n파이썬을 열심히 공부하고 있어요\n"
     ]
    }
   ],
   "source": [
    "#8-5 with\n",
    "import pickle\n",
    "\n",
    "with open(\"profile.pickle\", \"rb\") as profile_file:\n",
    "    print(pickle.load(profile_file))\n",
    "\n",
    "# with open(\"study.txt\", \"w\", encoding=\"utf-8\") as study_file:\n",
    "#     study_file.write(\"파이썬을 열심히 공부하고 있어요\")\n",
    "\n",
    "with open(\"study.txt\", \"r\", encoding=\"utf-8\") as study_file:\n",
    "    print(study_file.read())\n",
    "\n"
   ]
  },
  {
   "cell_type": "code",
   "execution_count": null,
   "metadata": {},
   "outputs": [],
   "source": [
    "#8-6 Quiz\n",
    "\n",
    "\"\"\"\n",
    "당신 회사에는 매주 1회 작성해하는 보고서가 있습니다.\n",
    "보고서는 항상 아래와 같은 형태로 출력되어야 합니다.\n",
    "- X 주차 주간보고 -\n",
    "부서:\n",
    "이름:\n",
    "업무 요약:\n",
    "1주차부터 50주차까지의 보고서 파일을 만드는 프로그램을 작성하시오.\n",
    "조건 : 파일명은 '1주차.txt', '2주차.txt', ... 같이 만듬 \n",
    "\n",
    "\"\"\"\n",
    "\n",
    "for i in range(1,51):\n",
    "    with open(str(i)+\"주차.txt\", \"w\", encoding=\"utf8\") as report_file:\n",
    "        report_file.write(\"- {0} 주차 주간보고 -\".format(i))\n",
    "        report_file.write(\"\\n부서: \")\n",
    "        report_file.write(\"\\n이름: \")\n",
    "        report_file.write(\"\\n업무 요약: \")"
   ]
  }
 ]
}