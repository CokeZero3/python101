{
 "metadata": {
  "language_info": {
   "codemirror_mode": {
    "name": "ipython",
    "version": 3
   },
   "file_extension": ".py",
   "mimetype": "text/x-python",
   "name": "python",
   "nbconvert_exporter": "python",
   "pygments_lexer": "ipython3",
   "version": "3.7.9-final"
  },
  "orig_nbformat": 2,
  "kernelspec": {
   "name": "python3",
   "display_name": "Python 3",
   "language": "python"
  }
 },
 "nbformat": 4,
 "nbformat_minor": 2,
 "cells": [
  {
   "cell_type": "code",
   "execution_count": 7,
   "metadata": {},
   "outputs": [
    {
     "output_type": "stream",
     "name": "stdout",
     "text": [
      "마린 유닛이 생성되었습니다.\n체력 40, 공격력 5\n\n탱크 유닛이 생성되었습니다.\n체력 150, 공격력 35\n\n탱크 유닛이 생성되었습니다.\n체력 150, 공격력 35\n\n마린 : 1시 방향으로 적군을 공격합니다. [공격력 5]\n탱크 : 1시 방향으로 적군을 공격합니다. [공격력 35]\n탱크 : 1시 방향으로 적군을 공격합니다. [공격력 35]\n"
     ]
    }
   ],
   "source": [
    "#9-1 클래스 Class\n",
    "\n",
    "#마린\n",
    "name = \"마린\" #유닛의 이름\n",
    "hp = 40\n",
    "damage = 5\n",
    "\n",
    "print(\"{} 유닛이 생성되었습니다.\".format(name))\n",
    "print(\"체력 {0}, 공격력 {1}\\n\".format(hp, damage))\n",
    "\n",
    "#탱크\n",
    "tank_name = \"탱크\" \n",
    "tank_hp = 150\n",
    "tank_damage = 35\n",
    "\n",
    "print(\"{} 유닛이 생성되었습니다.\".format(tank_name))\n",
    "print(\"체력 {0}, 공격력 {1}\\n\".format(tank_hp, tank_damage))\n",
    "\n",
    "def attack(name, location, damage):\n",
    "    print(\"{0} : {1} 방향으로 적군을 공격합니다. [공격력 {2}]\".format(name, location, damage))\n",
    "\n",
    "#탱크2\n",
    "tank_name2 = \"탱크\" \n",
    "tank_hp2 = 150\n",
    "tank_damage2 = 35\n",
    "\n",
    "print(\"{} 유닛이 생성되었습니다.\".format(tank_name2))\n",
    "print(\"체력 {0}, 공격력 {1}\\n\".format(tank_hp, tank_damage2))\n",
    "\n",
    "attack(name, \"1시\", damage)\n",
    "attack(tank_name, \"1시\", tank_damage)\n",
    "attack(tank_name2, \"1시\", tank_damage2)\n"
   ]
  }
 ]
}