{
 "metadata": {
  "language_info": {
   "codemirror_mode": {
    "name": "ipython",
    "version": 3
   },
   "file_extension": ".py",
   "mimetype": "text/x-python",
   "name": "python",
   "nbconvert_exporter": "python",
   "pygments_lexer": "ipython3",
   "version": "3.7.9-final"
  },
  "orig_nbformat": 2,
  "kernelspec": {
   "name": "python3",
   "display_name": "Python 3",
   "language": "python"
  }
 },
 "nbformat": 4,
 "nbformat_minor": 2,
 "cells": [
  {
   "cell_type": "code",
   "execution_count": 8,
   "metadata": {},
   "outputs": [
    {
     "output_type": "stream",
     "name": "stdout",
     "text": [
      "마린 유닛이 생성되었습니다.\n체력 40, 공격력 5\n\n탱크 유닛이 생성되었습니다.\n체력 150, 공격력 35\n\n탱크 유닛이 생성되었습니다.\n체력 150, 공격력 35\n\n마린 : 1시 방향으로 적군을 공격합니다. [공격력 5]\n탱크 : 1시 방향으로 적군을 공격합니다. [공격력 35]\n탱크 : 1시 방향으로 적군을 공격합니다. [공격력 35]\n"
     ]
    }
   ],
   "source": [
    "#9-1 클래스 Class\n",
    "\n",
    "#마린\n",
    "name = \"마린\" #유닛의 이름\n",
    "hp = 40\n",
    "damage = 5\n",
    "\n",
    "print(\"{} 유닛이 생성되었습니다.\".format(name))\n",
    "print(\"체력 {0}, 공격력 {1}\\n\".format(hp, damage))\n",
    "\n",
    "#탱크\n",
    "tank_name = \"탱크\" \n",
    "tank_hp = 150\n",
    "tank_damage = 35\n",
    "\n",
    "print(\"{} 유닛이 생성되었습니다.\".format(tank_name))\n",
    "print(\"체력 {0}, 공격력 {1}\\n\".format(tank_hp, tank_damage))\n",
    "\n",
    "def attack(name, location, damage):\n",
    "    print(\"{0} : {1} 방향으로 적군을 공격합니다. [공격력 {2}]\".format(name, location, damage))\n",
    "\n",
    "#탱크2\n",
    "tank_name2 = \"탱크\" \n",
    "tank_hp2 = 150\n",
    "tank_damage2 = 35\n",
    "\n",
    "print(\"{0} 유닛이 생성되었습니다.\".format(tank_name2))\n",
    "print(\"체력 {0}, 공격력 {1}\\n\".format(tank_hp, tank_damage2))\n",
    "\n",
    "attack(name, \"1시\", damage)\n",
    "attack(tank_name, \"1시\", tank_damage)\n",
    "attack(tank_name2, \"1시\", tank_damage2)\n",
    "\n",
    "\n",
    "class Unit:\n",
    "    def __init__(self, name, hp, damage):\n",
    "        self.name = name\n",
    "        self.hp = hp\n",
    "        self.damage = damage\n",
    "        print(\"{0} 유닛이 생성되었습니다.\".format(self.name))\n",
    "        print(\"체력 {0}, 공격력 {1}\\n\".format(self.hp, self.damage))\n",
    "\n",
    "marine1 = Unit(\"마린\", 40, 5)  \n",
    "marine2 = Unit(\"마린\", 40, 5)  \n",
    "tank = Unit(\"탱크\", 40, 35)  \n"
   ]
  },
  {
   "cell_type": "code",
   "execution_count": 11,
   "metadata": {},
   "outputs": [
    {
     "output_type": "execute_result",
     "data": {
      "text/plain": [
       "'\\nclass Unit:\\n    def __init__(self, name, hp, damage):\\n        self.name = name\\n        self.hp = hp\\n        self.damage = damage\\n        print(\"{0} 유닛이 생성되었습니다.\".format(self.name))\\n        print(\"체력 {0}, 공격력 {1}\\n\".format(self.hp, self.damage))\\n\\nmarine1 = Unit(\"마린\", 40, 5)  \\nmarine2 = Unit(\"마린\", 40, 5)  \\ntank = Unit(\"탱크\", 40, 35) \\n\\ne.g\\ntank = Unit(\"탱크\", 40) # init 함수의 모든 부분이 충족되지 않으면 출력되지 않음 \\n\\n'"
      ]
     },
     "metadata": {},
     "execution_count": 11
    }
   ],
   "source": [
    "#9-2 __init__\n",
    "\"\"\"\n",
    "class Unit:\n",
    "    def __init__(self, name, hp, damage):\n",
    "        self.name = name\n",
    "        self.hp = hp\n",
    "        self.damage = damage\n",
    "        print(\"{0} 유닛이 생성되었습니다.\".format(self.name))\n",
    "        print(\"체력 {0}, 공격력 {1}\\n\".format(self.hp, self.damage))\n",
    "\n",
    "marine1 = Unit(\"마린\", 40, 5)  \n",
    "marine2 = Unit(\"마린\", 40, 5)  \n",
    "tank = Unit(\"탱크\", 40, 35) \n",
    "\n",
    "e.g\n",
    "tank = Unit(\"탱크\", 40) # init 함수의 모든 부분이 충족되지 않으면 출력되지 않음 \n",
    "\n",
    "\"\"\"\n"
   ]
  },
  {
   "cell_type": "code",
   "execution_count": 16,
   "metadata": {},
   "outputs": [
    {
     "output_type": "stream",
     "name": "stdout",
     "text": [
      "레이스 유닛이 생성되었습니다.\n체력 80, 공격력 5\n\n유닛 이름: 레이스, 공격력 : 5\n레이스 유닛이 생성되었습니다.\n체력 80, 공격력 5\n\n레이스는 현재 클로킹 상태입니다\n"
     ]
    }
   ],
   "source": [
    "#9-3 멤버변수\n",
    "\n",
    "class Unit:\n",
    "    def __init__(self, name, hp, damage):\n",
    "        self.name = name\n",
    "        self.hp = hp\n",
    "        self.damage = damage\n",
    "        print(\"{0} 유닛이 생성되었습니다.\".format(self.name))\n",
    "        print(\"체력 {0}, 공격력 {1}\\n\".format(self.hp, self.damage))\n",
    "\n",
    "wraith = Unit(\"레이스\", 80, 5)\n",
    "print(\"유닛 이름: {0}, 공격력 : {1}\".format(wraith.name, wraith.damage))\n",
    "\n",
    "#마인드 컨트롤: 상대방 유닛을 내 것으로 만드는 것\n",
    "wraith2 = Unit(\"레이스\", 80, 5)\n",
    "wraith2.clocking = True\n",
    "\n",
    "if wraith2.clocking == True:\n",
    "    print(\"{0}는 현재 클로킹 상태입니다\".format(wraith2.name))\n"
   ]
  },
  {
   "cell_type": "code",
   "execution_count": 21,
   "metadata": {},
   "outputs": [
    {
     "output_type": "stream",
     "name": "stdout",
     "text": [
      "파이어뱃 : 5시 방향으로 적군을 공격합니다. [공격력 16]\n파이어뱃: 25 데미지를 입었습니다.\n파이어뱃 : 현재 체력은 25입니다.\n파이어뱃: 25 데미지를 입었습니다.\n파이어뱃 : 현재 체력은 0입니다.\n파이어뱃 : 파괴되었습니다.\n"
     ]
    }
   ],
   "source": [
    "#9-4 메소드\n",
    "\n",
    "class Unit:\n",
    "    def __init__(self, name, hp, damage):\n",
    "        self.name = name\n",
    "        self.hp = hp\n",
    "        self.damage = damage\n",
    "        print(\"{0} 유닛이 생성되었습니다.\".format(self.name))\n",
    "        print(\"체력 {0}, 공격력 {1}\\n\".format(self.hp, self.damage))\n",
    "\n",
    "class AttackUnit:\n",
    "    def __init__(self, name, hp, damage):\n",
    "        self.name = name\n",
    "        self.hp = hp\n",
    "        self.damage = damage\n",
    "    \n",
    "    def attack(self, location):\n",
    "        print(\"{0} : {1} 방향으로 적군을 공격합니다. [공격력 {2}]\"\\\n",
    "            .format(self.name, location, self.damage))\n",
    "    \n",
    "    def damaged(self, damage):\n",
    "        print(\"{0}: {1} 데미지를 입었습니다.\".format(self.name, damage))\n",
    "        self.hp -= damage\n",
    "        print(\"{0} : 현재 체력은 {1}입니다.\".format(self.name, self.hp))\n",
    "        if self.hp <= 0:\n",
    "            print(\"{0} : 파괴되었습니다.\".format(self.name))\n",
    "\n",
    "firebat1 = AttackUnit(\"파이어뱃\", 50, 16)\n",
    "firebat1.attack(\"5시\")\n",
    "\n",
    "#공격 2번 받는다는 가정\n",
    "firebat1.damaged(25)\n",
    "firebat1.damaged(25)\n",
    "        \n",
    "\n",
    "       "
   ]
  },
  {
   "cell_type": "code",
   "execution_count": 26,
   "metadata": {},
   "outputs": [
    {
     "output_type": "stream",
     "name": "stdout",
     "text": [
      "파이어뱃 : 5시 방향으로 적군을 공격합니다. [공격력 16]\n파이어뱃: 25 데미지를 입었습니다.\n파이어뱃 : 현재 체력은 25입니다.\n파이어뱃: 25 데미지를 입었습니다.\n파이어뱃 : 현재 체력은 0입니다.\n파이어뱃 : 파괴되었습니다.\n"
     ]
    }
   ],
   "source": [
    "#9-5 상속\n",
    "\n",
    "#일반 유닛\n",
    "class Unit:\n",
    "    def __init__(self, name, hp):\n",
    "        self.name = name\n",
    "        self.hp = hp\n",
    "        \n",
    "#공격 유닛\n",
    "class AttackUnit(Unit): # 일반 유닛에서 상속 받아 공격 유닛을 만든것\n",
    "    def __init__(self, name, hp, damage):\n",
    "        Unit.__init__(self, name, hp)\n",
    "        self.damage = damage\n",
    "        \n",
    "    def attack(self, location):\n",
    "        print(\"{0} : {1} 방향으로 적군을 공격합니다. [공격력 {2}]\"\\\n",
    "            .format(self.name, location, self.damage))\n",
    "    \n",
    "    def damaged(self, damage):\n",
    "        print(\"{0}: {1} 데미지를 입었습니다.\".format(self.name, damage))\n",
    "        self.hp -= damage\n",
    "        print(\"{0} : 현재 체력은 {1}입니다.\".format(self.name, self.hp))\n",
    "        if self.hp <= 0:\n",
    "            print(\"{0} : 파괴되었습니다.\".format(self.name))\n",
    "\n",
    "firebat1 = AttackUnit(\"파이어뱃\", 50, 16)\n",
    "firebat1.attack(\"5시\")\n",
    "\n",
    "#공격 2번 받는다는 가정\n",
    "firebat1.damaged(25)\n",
    "firebat1.damaged(25)\n"
   ]
  },
  {
   "cell_type": "code",
   "execution_count": 29,
   "metadata": {},
   "outputs": [
    {
     "output_type": "stream",
     "name": "stdout",
     "text": [
      "발키리 : 3시 방향으로 날아갑니다.[속도5]\n"
     ]
    }
   ],
   "source": [
    "#9-6 다중상속\n",
    "\n",
    "#일반 유닛\n",
    "class Unit:\n",
    "    def __init__(self, name, hp):\n",
    "        self.name = name\n",
    "        self.hp = hp\n",
    "        \n",
    "#공격 유닛\n",
    "class AttackUnit(Unit): # 일반 유닛에서 상속 받아 공격 유닛을 만든것\n",
    "    def __init__(self, name, hp, damage):\n",
    "        Unit.__init__(self, name, hp)\n",
    "        self.damage = damage\n",
    "        \n",
    "    def attack(self, location):\n",
    "        print(\"{0} : {1} 방향으로 적군을 공격합니다. [공격력 {2}]\"\\\n",
    "            .format(self.name, location, self.damage))\n",
    "    \n",
    "    def damaged(self, damage):\n",
    "        print(\"{0}: {1} 데미지를 입었습니다.\".format(self.name, damage))\n",
    "        self.hp -= damage\n",
    "        print(\"{0} : 현재 체력은 {1}입니다.\".format(self.name, self.hp))\n",
    "        if self.hp <= 0:\n",
    "            print(\"{0} : 파괴되었습니다.\".format(self.name))\n",
    "\n",
    "# 드랍쉽: 궁중 유닛, 수송기, 공격 x\n",
    "\n",
    "\n",
    "class Flyable:\n",
    "    def __init__(self, flying_speed):\n",
    "        self.flying_speed = flying_speed\n",
    "\n",
    "    def fly(self, name, location):\n",
    "        print(\"{0} : {1} 방향으로 날아갑니다.[속도{2}]\".format(name, location, self.flying_speed))\n",
    "    \n",
    "#공중 공격 유닛 클래스\n",
    "class FlyableAttackUnit(AttackUnit, Flyable):\n",
    "    def __init__(self, name, hp, damage, flying_speed):\n",
    "        AttackUnit.__init__(self, name, hp, damage)\n",
    "        Flyable.__init__(self, flying_speed)\n",
    "\n",
    "#발키리: 공중 공격 유닛\n",
    "valkyrie = FlyableAttackUnit(\"발키리\", 200, 6, 5)\n",
    "valkyrie.fly(valkyrie.name, \"3시\")"
   ]
  }
 ]
}