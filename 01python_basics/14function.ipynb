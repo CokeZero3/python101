{
 "metadata": {
  "language_info": {
   "codemirror_mode": {
    "name": "ipython",
    "version": 3
   },
   "file_extension": ".py",
   "mimetype": "text/x-python",
   "name": "python",
   "nbconvert_exporter": "python",
   "pygments_lexer": "ipython3",
   "version": "3.7.9-final"
  },
  "orig_nbformat": 2,
  "kernelspec": {
   "name": "python3",
   "display_name": "Python 3",
   "language": "python"
  }
 },
 "nbformat": 4,
 "nbformat_minor": 2,
 "cells": [
  {
   "cell_type": "code",
   "execution_count": 16,
   "metadata": {},
   "outputs": [
    {
     "output_type": "stream",
     "name": "stdout",
     "text": [
      "입급이 완료되었습니다. 잔액은 1000원입니다.\n수수료는 100원이고, 잔액은 400원입니다\n"
     ]
    }
   ],
   "source": [
    "#함수 function\n",
    "\n",
    "def open_account():\n",
    "    print(\"새로운 계좌가 생성되었습니다.\")\n",
    "\n",
    "def deposit(balance, money):\n",
    "    print(\"입급이 완료되었습니다. 잔액은 {0}원입니다.\".format(balance + money))\n",
    "    return balance + money\n",
    "\n",
    "def withdraw(balance, money):\n",
    "    if balance >= money: #잔액이 출금보다 많으면 출금 가능\n",
    "        print(\"출금 완료. 잔액은 {0}원입니다.\".format(balance - money))\n",
    "    else:\n",
    "        print(\"출금 불가. 잔액은 {0}원입니다.\".format(balance))\n",
    "\n",
    "def withdraw_night(balance, money): #저녁에 출금\n",
    "    commission = 100 #수수료 100원\n",
    "    return commission, balance - money - commission\n",
    "\n",
    "balance = 0 #잔액\n",
    "balance = deposit(balance, 1000)\n",
    "# balance = withdraw(balance, 2000)\n",
    "# balance = withdraw(balance, 500)\n",
    "\n",
    "commission, balance = withdraw_night(balance, 500)\n",
    "print(\"수수료는 {0}원이고, 잔액은 {1}원입니다\".format(commission, balance))\n",
    "\n",
    "# print(balance)\n"
   ]
  },
  {
   "cell_type": "code",
   "execution_count": 23,
   "metadata": {},
   "outputs": [
    {
     "output_type": "stream",
     "name": "stdout",
     "text": [
      "이름: 정형돈\t나이: 17\t언어: Python\n이름: 김태호\t나이: 17\t언어: Python\n"
     ]
    }
   ],
   "source": [
    "#함수 기본 값 설정\n",
    "\"\"\"\n",
    "def profile(name, age, main_language):\n",
    "    print(\"이름: {0}\\t나이: {1}\\t언어: {2}\"\\\n",
    "        .format(name, age, main_language))\n",
    "\n",
    "profile(\"유재석\", 20, \"파이썬\")\n",
    "profile(\"김태호\", 25, \"자바\")\n",
    "\"\"\"\n",
    "#같은 학교 같은 학년 같은 반 같은 수업. 일때 사용되는 기본 값\n",
    "def profile(name, age=17, main_language=\"Python\"):\n",
    "    print(\"이름: {0}\\t나이: {1}\\t언어: {2}\"\\\n",
    "        .format(name, age, main_language))\n",
    "\n",
    "profile(\"정형돈\")\n",
    "profile(\"김태호\")\n"
   ]
  }
 ]
}