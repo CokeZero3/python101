{
 "metadata": {
  "language_info": {
   "codemirror_mode": {
    "name": "ipython",
    "version": 3
   },
   "file_extension": ".py",
   "mimetype": "text/x-python",
   "name": "python",
   "nbconvert_exporter": "python",
   "pygments_lexer": "ipython3",
   "version": "3.7.9-final"
  },
  "orig_nbformat": 2,
  "kernelspec": {
   "name": "python3",
   "display_name": "Python 3",
   "language": "python"
  }
 },
 "nbformat": 4,
 "nbformat_minor": 2,
 "cells": [
  {
   "cell_type": "code",
   "execution_count": 16,
   "metadata": {},
   "outputs": [
    {
     "output_type": "stream",
     "name": "stdout",
     "text": [
      "입급이 완료되었습니다. 잔액은 1000원입니다.\n수수료는 100원이고, 잔액은 400원입니다\n"
     ]
    }
   ],
   "source": [
    "#함수 function\n",
    "\n",
    "def open_account():\n",
    "    print(\"새로운 계좌가 생성되었습니다.\")\n",
    "\n",
    "def deposit(balance, money):\n",
    "    print(\"입급이 완료되었습니다. 잔액은 {0}원입니다.\".format(balance + money))\n",
    "    return balance + money\n",
    "\n",
    "def withdraw(balance, money):\n",
    "    if balance >= money: #잔액이 출금보다 많으면 출금 가능\n",
    "        print(\"출금 완료. 잔액은 {0}원입니다.\".format(balance - money))\n",
    "    else:\n",
    "        print(\"출금 불가. 잔액은 {0}원입니다.\".format(balance))\n",
    "\n",
    "def withdraw_night(balance, money): #저녁에 출금\n",
    "    commission = 100 #수수료 100원\n",
    "    return commission, balance - money - commission\n",
    "\n",
    "balance = 0 #잔액\n",
    "balance = deposit(balance, 1000)\n",
    "# balance = withdraw(balance, 2000)\n",
    "# balance = withdraw(balance, 500)\n",
    "\n",
    "commission, balance = withdraw_night(balance, 500)\n",
    "print(\"수수료는 {0}원이고, 잔액은 {1}원입니다\".format(commission, balance))\n",
    "\n",
    "# print(balance)\n"
   ]
  },
  {
   "cell_type": "code",
   "execution_count": 24,
   "metadata": {},
   "outputs": [
    {
     "output_type": "stream",
     "name": "stdout",
     "text": [
      "이름: 정형돈\t나이: 17\t언어: Python\n이름: 김태호\t나이: 17\t언어: Python\n"
     ]
    }
   ],
   "source": [
    "#함수 기본 값 설정\n",
    "\"\"\"\n",
    "def profile(name, age, main_language):\n",
    "    print(\"이름: {0}\\t나이: {1}\\t언어: {2}\"\\\n",
    "        .format(name, age, main_language))\n",
    "\n",
    "profile(\"유재석\", 20, \"파이썬\")\n",
    "profile(\"김태호\", 25, \"자바\")\n",
    "\"\"\"\n",
    "#같은 학교 같은 학년 같은 반 같은 수업. 일때 사용되는 기본 값\n",
    "def profile(name, age=17, main_language=\"Python\"):\n",
    "    print(\"이름: {0}\\t나이: {1}\\t언어: {2}\"\\\n",
    "        .format(name, age, main_language))\n",
    "\n",
    "profile(\"정형돈\")\n",
    "profile(\"김태호\")\n"
   ]
  },
  {
   "cell_type": "code",
   "execution_count": 28,
   "metadata": {},
   "outputs": [
    {
     "output_type": "stream",
     "name": "stdout",
     "text": [
      "유재석 20 python\n정형돈 25 java\n"
     ]
    }
   ],
   "source": [
    "#함수 키워드 값\n",
    "\n",
    "def profile(name, age, main_language):\n",
    "    print(name, age, main_language\\\n",
    "        .format(name, age, main_language))\n",
    "\n",
    "profile(name=\"유재석\", main_language=\"python\", age=20)\n",
    "profile(name=\"정형돈\", age=25,  main_language=\"java\")\n"
   ]
  },
  {
   "cell_type": "code",
   "execution_count": 34,
   "metadata": {},
   "outputs": [
    {
     "output_type": "stream",
     "name": "stdout",
     "text": [
      "이름: 유재석\t나이: 40\tPython Java C C++ C# \n이름: 김태호\t나이: 20\tKotlin Swift    \n"
     ]
    }
   ],
   "source": [
    "#함수 가변인자 이용한 함수 호출\n",
    "\n",
    "# def profile(name, age, lang1, lang2, lang3, lang4, lang5):\n",
    "#     print(\"이름: {0}\\t나이: {1}\\t\".format(name, age), end=\"\")\n",
    "#     print(lang1, lang2, lang3, lang4, lang5)\n",
    "\n",
    "def profile(name, age, *language):\n",
    "    print(\"이름: {0}\\t나이: {1}\\t\".format(name, age), end=\"\")\n",
    "    for lang in language:\n",
    "        print(lang, end=\" \")\n",
    "    print()\n",
    "\n",
    "profile(\"유재석\", 40, \"Python\", \"Java\", \"C\", \"C++\", \"C#\")\n",
    "profile(\"김태호\", 20, \"Kotlin\", \"Swift\", \"\", \"\", \"\")"
   ]
  },
  {
   "cell_type": "code",
   "execution_count": 40,
   "metadata": {},
   "outputs": [
    {
     "output_type": "stream",
     "name": "stdout",
     "text": [
      "전체 총: 10\n[함수 내] 남은 총: 8\n남은 총: 10\n"
     ]
    }
   ],
   "source": [
    "# 지역변수 + 전역변수\n",
    "\n",
    "\n",
    "gun = 10 #전역변수\n",
    "\n",
    "def checkpoint(soldiers): #경계근무\n",
    "    # gun = 20 #지역변수\n",
    "    global gun #전역에 있는 gun 변수 사용\n",
    "    gun = gun - soldiers\n",
    "    print(\"[함수 내] 남은 총: {0}\".format(gun))\n",
    "\n",
    "def checkpoint_ret(gun,soldiers):\n",
    "    gun = gun - soldiers\n",
    "    print(\"[함수 내] 남은 총: {0}\".format(gun))\n",
    "    return gun\n",
    "\n",
    "\n",
    "print(\"전체 총: {0}\".format(gun))\n",
    "\n",
    "fun = checkpoint_ret(gun, 2)\n",
    "print(\"남은 총: {0}\".format(gun))"
   ]
  },
  {
   "cell_type": "code",
   "execution_count": 72,
   "metadata": {},
   "outputs": [
    {
     "output_type": "stream",
     "name": "stdout",
     "text": [
      "키 175cm 남자의 표준 체중은 67.38 입니다.\n"
     ]
    }
   ],
   "source": [
    "#Quiz6 함수\n",
    "\n",
    "\"\"\"\n",
    "표준 체중 구하기\n",
    "* 표중 체중 : 각 개인의 키에 적당한 체중\n",
    "\n",
    "(성별에 따른 공식)\n",
    "    남자: 키 x  키 x 22\n",
    "    여자: 키 x  키 x 21\n",
    "\n",
    "조건1: 표준 체중은 별도의 함수 내에서 계산 \n",
    "        * 함수명: std_weight\n",
    "        * 전달값: 키(height), 성별(gender)\n",
    "조건2: 표준 체중은 소수점 둘째자리까지 표시\n",
    "\n",
    "(출력 예제)\n",
    "키 175cm 남자의 표준 체중은 67.38 입니다.\n",
    "\"\"\"\n",
    "\n",
    "def std_weight(height, gender): #키는 m단위 (실수), 성별은 string \"남자\"/\"여자\"\n",
    "    if gender == \"남자\":\n",
    "        return height*height*22\n",
    "    elif gender == \"여자\":\n",
    "        return height*height*21\n",
    "\n",
    "height = 175 # cm 단위\n",
    "gender = \"남자\"\n",
    "\n",
    "weight = round(std_weight(height/100, gender), 2)\n",
    "\n",
    "\n",
    "print(\"키 {0}cm {1}의 표준 체중은 {2} 입니다.\".format(height, gender, weight))\n"
   ]
  },
  {
   "cell_type": "code",
   "execution_count": null,
   "metadata": {},
   "outputs": [],
   "source": []
  }
 ]
}