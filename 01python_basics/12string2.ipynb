{
 "metadata": {
  "language_info": {
   "codemirror_mode": {
    "name": "ipython",
    "version": 3
   },
   "file_extension": ".py",
   "mimetype": "text/x-python",
   "name": "python",
   "nbconvert_exporter": "python",
   "pygments_lexer": "ipython3",
   "version": "3.7.9-final"
  },
  "orig_nbformat": 2,
  "kernelspec": {
   "name": "python3",
   "display_name": "Python 3",
   "language": "python"
  }
 },
 "nbformat": 4,
 "nbformat_minor": 2,
 "cells": [
  {
   "cell_type": "code",
   "execution_count": 29,
   "metadata": {},
   "outputs": [
    {
     "output_type": "stream",
     "name": "stdout",
     "text": [
      "[10, 20, 30]\n['유재석', '조세호', '박명수']\n1\n['유재석', '조세호', '박명수', '하하']\n['유재석', '정형돈', '조세호', '박명수', '하하']\n['유재석', '정형돈', '조세호', '박명수', '하하', '유재석']\n2\n[6, 5, 5, 4, 2, '조세호', 0, 1, True]\n"
     ]
    }
   ],
   "source": [
    "# 5-1 리스트\n",
    "\n",
    "subway = 10\n",
    "subway = 20\n",
    "subway = 30\n",
    "\n",
    "subway = [10, 20 , 30]\n",
    "print(subway)\n",
    "\n",
    "subway = [\"유재석\", \"조세호\", \"박명수\"]\n",
    "print(subway)\n",
    "\n",
    "#조세호씨는 몇 번째칸에 타고 있는가?\n",
    "print(subway.index(\"조세호\"))\n",
    "\n",
    "#하하씨가 다음 정류장에서 다음 칸에 탐\n",
    "subway.append(\"하하\")\n",
    "print(subway)\n",
    "\n",
    "#정형돈을 유재석 / 조세호 사이에 태워봄\n",
    "subway.insert(1, \"정형돈\")\n",
    "print(subway)\n",
    "\n",
    "#지하철 뒤에서 한 명씩 꺼냄\n",
    "# print(subway.pop())\n",
    "# print(subway)\n",
    "\n",
    "# print(subway.pop())\n",
    "# print(subway)\n",
    "\n",
    "# print(subway.pop())\n",
    "# print(subway)\n",
    "\n",
    "# print(subway.pop())\n",
    "# print(subway)\n",
    "\n",
    "# 같은 이름 몇 명 있는지 확인\n",
    "subway.append(\"유재석\")\n",
    "print(subway)\n",
    "print(subway.count(\"유재석\"))\n",
    "\n",
    "# 정렬도 가능\n",
    "num_list = [5, 2, 4, 5, 6]\n",
    "num_list.sort()\n",
    "# print(num_list)\n",
    "# 순서 뒤집기\n",
    "num_list.reverse()\n",
    "# print(num_list)\n",
    "#모두 지우기\n",
    "# num_list.clear()\n",
    "# print(num_list)\n",
    "\n",
    "#mix_list\n",
    "mix_list = [\"조세호\", 0, 1, True]\n",
    "# print(mix_list)\n",
    "\n",
    "#리스트 확장\n",
    "num_list.extend(mix_list)\n",
    "print(num_list)"
   ]
  },
  {
   "cell_type": "code",
   "execution_count": 56,
   "metadata": {},
   "outputs": [
    {
     "output_type": "stream",
     "name": "stdout",
     "text": [
      "유재석 김태호\n유재석\nNone\n사용 가능\nTrue\nFalse\n=================================\n유재석\n김태호\n{'A-3': '유재석', 'B-100': '김태호'}\n{'A-3': '김종국', 'B-100': '김태호', 'C-20': '조세호'}\n{'B-100': '김태호', 'C-20': '조세호'}\ndict_keys(['B-100', 'C-20'])\ndict_values(['김태호', '조세호'])\ndict_items([('B-100', '김태호'), ('C-20', '조세호')])\n{}\n"
     ]
    }
   ],
   "source": [
    "#5-2사전\n",
    "\n",
    "cabinet = {3:\"유재석\", 100:\"김태호\"}\n",
    "\n",
    "print(cabinet[3], cabinet[100])\n",
    "print(cabinet.get(3))\n",
    "print(cabinet.get(5)) #5 할당 안됨 [#] = error || .get() = none\n",
    "print(cabinet.get(5, \"사용 가능\"))\n",
    "\n",
    "\n",
    "print(3 in cabinet) #True\n",
    "print(5 in cabinet) #False\n",
    "\n",
    "#\n",
    "print(\"=================================\")\n",
    "cabinet = {\"A-3\":\"유재석\",\"B-100\":\"김태호\"}\n",
    "print(cabinet[\"A-3\"])\n",
    "print(cabinet[\"B-100\"])\n",
    "#새손님\n",
    "print(cabinet)\n",
    "cabinet[\"A-3\"] = \"김종국\"\n",
    "cabinet[\"C-20\"] = \"조세호\"\n",
    "print(cabinet)\n",
    "\n",
    "#간손님\n",
    "del cabinet[\"A-3\"]\n",
    "print(cabinet)\n",
    "\n",
    "#key들만 출력\n",
    "print(cabinet.keys())\n",
    "print(cabinet.values())\n",
    "print(cabinet.items())\n",
    "\n",
    "#영업종료\n",
    "cabinet.clear()\n",
    "print(cabinet)\n",
    "\n",
    "\n"
   ]
  },
  {
   "cell_type": "code",
   "execution_count": 66,
   "metadata": {},
   "outputs": [
    {
     "output_type": "stream",
     "name": "stdout",
     "text": [
      "돈까스\n치즈까스\n김종국 20 코딩\n"
     ]
    }
   ],
   "source": [
    "#튜플\n",
    "\n",
    "menu = (\"돈까스\", \"치즈까스\")\n",
    "print(menu[0])\n",
    "print(menu[1])\n",
    "\n",
    "# menu.add(\"생선까스\") 불가능\n",
    "\n",
    "name = \"김종국\"\n",
    "age = 20\n",
    "hobby = \"코딩\"\n",
    "\n",
    "# print(name, age, hobby)\n",
    "\n",
    "(name, age, hobby) = (\"김종국\", 20, \"코딩\")\n",
    "print(name, age, hobby)\n"
   ]
  },
  {
   "cell_type": "code",
   "execution_count": 79,
   "metadata": {},
   "outputs": [
    {
     "output_type": "stream",
     "name": "stdout",
     "text": [
      "{1, 2, 3}\n{'유재석'}\n{'유재석'}\n{'양세형', '박명수', '김태호', '유재석'}\n{'양세형', '박명수', '김태호', '유재석'}\n{'김태호', '양세형'}\n{'김태호', '양세형'}\n{'김태호', '박명수', '유재석'}\n{'양세형', '유재석'}\n"
     ]
    }
   ],
   "source": [
    "# 집합 (set) \n",
    "# 중복 안됨, 순서 없음\n",
    "my_set = {1, 2, 3, 3, 3}\n",
    "print(my_set)\n",
    "\n",
    "java = {\"유재석\", \"김태호\", \"양세형\"}\n",
    "python = set([\"유재석\", \"박명수\"])\n",
    "\n",
    "# 교집합 || java와 python을 모두 할 수 있는 개발자\n",
    "print(java & python)\n",
    "print(java.intersection(python))\n",
    "\n",
    "# 합집합 || java할 수 있거나 python 할 수 있는 개발자\n",
    "print(java | python)\n",
    "print(java.union(python))\n",
    "\n",
    "# 차집합 || java 가능 python 불가능 개발자\n",
    "print(java - python)\n",
    "print(java.difference(python))\n",
    "\n",
    "# python 할 줄 아는 사람이 늘어남\n",
    "python.add(\"김태호\")\n",
    "print(python)\n",
    "\n",
    "# java를 까먹음\n",
    "java.remove(\"김태호\")\n",
    "print(java)\n"
   ]
  },
  {
   "cell_type": "code",
   "execution_count": 83,
   "metadata": {},
   "outputs": [
    {
     "output_type": "stream",
     "name": "stdout",
     "text": [
      "{'주스', '우유', '커피'} <class 'set'>\n['주스', '우유', '커피'] <class 'list'>\n('주스', '우유', '커피') <class 'tuple'>\n{'커피', '우유', '주스'} <class 'set'>\n"
     ]
    }
   ],
   "source": [
    "#자료구조의 변경\n",
    "menu = {\"커피\", \"우유\", \"주스\"}\n",
    "print(menu, type(menu))\n",
    "\n",
    "menu = list(menu)\n",
    "print(menu, type(menu))\n",
    "\n",
    "menu = tuple(menu)\n",
    "print(menu, type(menu))\n",
    "\n",
    "menu = set(menu)\n",
    "print(menu, type(menu))\n",
    "\n",
    "\n"
   ]
  },
  {
   "cell_type": "code",
   "execution_count": 117,
   "metadata": {},
   "outputs": [
    {
     "output_type": "stream",
     "name": "stdout",
     "text": [
      "sample:  ['ag']\n==== 당첨자 발표 ====\n치킨 당첨자:  bj\n커피 당첨자:  bj\n==== 축하합니다 ====\n================정답================\n[1, 2, 3, 4, 5, 6, 7, 8, 9, 10, 11, 12, 13, 14, 15, 16, 17, 18, 19, 20]\n[4, 17, 2, 3, 6, 18, 7, 9, 14, 11, 16, 8, 1, 20, 5, 19, 13, 10, 12, 15]\n==== 당첨자 발표 ====\n치킨 당첨자: 11\n커피 당첨자: [4, 1, 18]\n==== 축하합니다 ====\n"
     ]
    }
   ],
   "source": [
    "#퀴즈4\n",
    "from random import *\n",
    "\n",
    "# lst = [\"aa\", \"ab\", \"ac\", \"ad\", \"ae\", \"af\", \"ag\", \"ah\", \"ai\", \"aj\", \"ba\", \"bb\", \"bc\", \"bd\", \"be\", \"bf\", \"bg\", \"bh\", \"bi\", \"bj\"]\n",
    "\n",
    "randNum = int((random()*20)+1)\n",
    "# print(randNum)\n",
    "# print(lst[randNum])\n",
    "# shuffle(lst)\n",
    "\n",
    "print(\"sample: \",sample(lst,1))\n",
    "\n",
    "print(\"==== 당첨자 발표 ====\")\n",
    "print(\"치킨 당첨자: \", lst[randNum])\n",
    "print(\"커피 당첨자: \", lst[randNum])\n",
    "print(\"==== 축하합니다 ====\")\n",
    "\n",
    "#==========================================\n",
    "print(\"================정답================\")\n",
    "users = range(1, 21) #1부터 20까지 숫자를 생성\n",
    "users=list(users)\n",
    "# print(type(users))\n",
    "\n",
    "print(users)\n",
    "shuffle(users)\n",
    "print(users)\n",
    "\n",
    "winners = sample(users, 4) #4명 중에서 1명은 치킨, 3명은 커피\n",
    "\n",
    "print(\"==== 당첨자 발표 ====\")\n",
    "print(\"치킨 당첨자: {0}\".format(winners[0]))\n",
    "print(\"커피 당첨자: {0}\".format(winners[1:]))\n",
    "print(\"==== 축하합니다 ====\")\n"
   ]
  }
 ]
}