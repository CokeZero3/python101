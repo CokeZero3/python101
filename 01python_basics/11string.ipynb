{
 "metadata": {
  "language_info": {
   "codemirror_mode": {
    "name": "ipython",
    "version": 3
   },
   "file_extension": ".py",
   "mimetype": "text/x-python",
   "name": "python",
   "nbconvert_exporter": "python",
   "pygments_lexer": "ipython3",
   "version": "3.7.9-final"
  },
  "orig_nbformat": 2,
  "kernelspec": {
   "name": "python3",
   "display_name": "Python 3",
   "language": "python"
  }
 },
 "nbformat": 4,
 "nbformat_minor": 2,
 "cells": [
  {
   "cell_type": "code",
   "execution_count": 2,
   "metadata": {},
   "outputs": [
    {
     "output_type": "stream",
     "name": "stdout",
     "text": [
      "Hello Python\nCommit Every Day\n\nHi,\nPython is easy\nand Fun! \n\n"
     ]
    }
   ],
   "source": [
    "#문자열 \n",
    " \n",
    "sentence = 'Hello Python'\n",
    "print(sentence)\n",
    "\n",
    "sentence2 = 'Commit Every Day'\n",
    "print(sentence2)\n",
    "\n",
    "sentence3 =\"\"\"\n",
    "Hi,\n",
    "Python is easy\n",
    "and Fun! \n",
    "\"\"\"\n",
    "print(sentence3)\n",
    "\n"
   ]
  },
  {
   "cell_type": "code",
   "execution_count": 18,
   "metadata": {},
   "outputs": [
    {
     "output_type": "stream",
     "name": "stdout",
     "text": [
      "성별: 1\n연: 93\n생일: 0310\n생년월일: 930310\n뒤 7자리: 1234567\n뒤 7자리 (뒷자리 부터): 1234567\n"
     ]
    }
   ],
   "source": [
    "#슬라이싱 Slicing\n",
    "\n",
    "personal_num = \"930310-1234567\"\n",
    "\n",
    "print(\"성별: \" + personal_num[7])\n",
    "print(\"연: \" + personal_num[0:2]) #0부터 2 직전까지 (0,1)\n",
    "print(\"생일: \" + personal_num[2:6])\n",
    "print(\"생년월일: \" + personal_num[:6]) #처음부터 6 직전까지\n",
    "print(\"뒤 7자리: \" + personal_num[7:]) #7부터 끝까지\n",
    "print(\"뒤 7자리 (뒷자리 부터): \" + personal_num[-7:]) #맨 뒤에서 7번째부터 끝까지"
   ]
  },
  {
   "cell_type": "code",
   "execution_count": 33,
   "metadata": {},
   "outputs": [
    {
     "output_type": "stream",
     "name": "stdout",
     "text": [
      "python is amazing\nPYTHON IS AMAZING\nTrue\n17\nJava is Amazing\n5\n15\n-1\n2\n"
     ]
    }
   ],
   "source": [
    "#문자열 처리\n",
    "\n",
    "python = \"Python is Amazing\"\n",
    "print(python.lower()) #소문자\n",
    "print(python.upper()) #대문자\n",
    "print(python[0].isupper()) #첫 글자 대문자 확인 boolean\n",
    "print(len(python)) #글자 갯수\n",
    "print(python.replace(\"Python\", \"Java\")) #python변수에서 \"Python\"을 찾아 Java로 replace\n",
    "\n",
    "index = python.index(\"n\") #첫 번째 n을 찾는 것\n",
    "print(index)\n",
    "index = python.index(\"n\", index+1) #두 번째 n을 찾는 것\n",
    "print(index)\n",
    "\n",
    "print(python.find(\"Java\")) #글자 찾는 다른 방식 || 없는 값이면 find에선 -1출력\n",
    "# print(python.index(\"Java\")) #글자 찾는 다른 방식 || 없는 값이면 에러가 남\n",
    "\n",
    "print(python.count(\"n\")) #글자 몇 개 들어갔는지 세는 것"
   ]
  },
  {
   "cell_type": "code",
   "execution_count": 53,
   "metadata": {},
   "outputs": [
    {
     "output_type": "stream",
     "name": "stdout",
     "text": [
      "ab\na b\n==방법1==\n나는 20살입니다.\n나는 파이썬을 좋아해요.\nApple은 A로 시작해요.\n나는 파란색과 검정색을 좋아해요.\n==방법2==\n나는 20살입니다\n나는 파란색과 빨간색을 좋아해요.\n나는 파란색과 빨간색을 좋아해요.\n나는 빨간색과 파란색을 좋아해요.\n==방법3==\n나는 20살이며, 검정색을 좋아해요.\n==방법4==\n나는 20살이며, 빨간색을 좋아해요.\n"
     ]
    }
   ],
   "source": [
    "#문자열 포맷\n",
    "\n",
    "print(\"a\"+\"b\")\n",
    "print(\"a\",\"b\")\n",
    "\n",
    "#방법1 \n",
    "print(\"==방법1==\")\n",
    "\"\"\"\n",
    "%d\n",
    "%s\n",
    "%c\n",
    "\"\"\"\n",
    "print(\"나는 %d살입니다.\" % 20)\n",
    "print(\"나는 %s을 좋아해요.\" % \"파이썬\")\n",
    "print(\"Apple은 %c로 시작해요.\" % \"A\")\n",
    "# %s 쓰면 다 문자 숫자 가능\n",
    "print(\"나는 %s색과 %s색을 좋아해요.\" % (\"파란\",\"검정\"))\n",
    "\n",
    "#방법2\n",
    "print(\"==방법2==\")\n",
    "print(\"나는 {}살입니다\".format(20))\n",
    "print(\"나는 {}색과 {}색을 좋아해요.\".format(\"파란\", \"빨간\"))\n",
    "\n",
    "print(\"나는 {0}색과 {1}색을 좋아해요.\".format(\"파란\", \"빨간\"))\n",
    "print(\"나는 {1}색과 {0}색을 좋아해요.\".format(\"파란\", \"빨간\")) #순서 바꾸기\n",
    "#방법3\n",
    "print(\"==방법3==\")\n",
    "print(\"나는 {age}살이며, {color}색을 좋아해요.\".format(age=20,color=\"검정\"))\n",
    "#방법4 (v3.6 이상 가능)\n",
    "print(\"==방법4==\")\n",
    "\n",
    "age = 20\n",
    "color = \"빨간\"\n",
    "print(f\"나는 {age}살이며, {color}색을 좋아해요.\")"
   ]
  },
  {
   "cell_type": "code",
   "execution_count": 145,
   "metadata": {},
   "outputs": [
    {
     "output_type": "stream",
     "name": "stdout",
     "text": [
      "백문이 불여일견\n백견이 불여일타\n저는 \"나도코딩\"입니다.\nC:\\Python\\python101>\nPineApple\nRedApple\nRed\tApple\n"
     ]
    }
   ],
   "source": [
    "#탈출문자\n",
    "\n",
    "#\\n : 줄바꿈\n",
    "print(\"백문이 불여일견\\n백견이 불여일타\")\n",
    "\n",
    "\n",
    "# \\\"\\\" : 문장 내에서 따옴표 사용법\n",
    "# 저는 \"나도코딩\"입니다.\n",
    "# print(\"저는 \"나도코딩\"입니다.\") #error\n",
    "# print('저는 \"나도코딩\"입니다.') \n",
    "print(\"저는 \\\"나도코딩\\\"입니다.\") #역 슬러쉬 사용하믄 된다 이말이란다.\\\n",
    "\n",
    "# \\\\: 문장 내에서 \\ 사용법 \n",
    "print(\"C:\\\\Python\\\\python101>\")\n",
    "\n",
    "# \\r : 커서를 맨 앞으로 이동\n",
    "print(\"Red Apple\\rPineApple\")\n",
    "\n",
    "# \\b : 백스페이스 (한 글자 삭제)\n",
    "print(\"Redd\\bApple\")\n",
    "# \\t : 탭\n",
    "print(\"Red\\tApple\")"
   ]
  },
  {
   "cell_type": "code",
   "execution_count": 161,
   "metadata": {},
   "outputs": [
    {
     "output_type": "stream",
     "name": "stdout",
     "text": [
      "http:// 날리기:  naver.com\nhttp:// +.com날리기:  naver\n생선된 비밀번호:  nav\n===정답===\nnaver.com\nnaver\n"
     ]
    }
   ],
   "source": [
    "#Quiz3\n",
    "\n",
    "url = \"http://naver.com\"\n",
    "\n",
    "\n",
    "print(\"http:// 날리기: \", url[7:])\n",
    "print(\"http:// +.com날리기: \", url[7:12])\n",
    "print(\"생선된 비밀번호: \", url[7:10])\n",
    "\n",
    "\n",
    "#정답\n",
    "print(\"===정답===\")\n",
    "my_str = url.replace(\"http://\", \"\") #규칙 1 \n",
    "print(my_str)\n",
    "\n",
    "my_str = my_str[:my_str.index(\".\")] \n",
    "#my_str[0:5] -> 0 ~ 5 직전까지. (0,1,2,3,4)  #규칙 2\n",
    "print(my_str)\n",
    "\n",
    "password = my_str[:3] + str(len(my_str))\n",
    "\n"
   ]
  }
 ]
}