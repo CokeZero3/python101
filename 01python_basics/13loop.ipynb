{
 "metadata": {
  "language_info": {
   "codemirror_mode": {
    "name": "ipython",
    "version": 3
   },
   "file_extension": ".py",
   "mimetype": "text/x-python",
   "name": "python",
   "nbconvert_exporter": "python",
   "pygments_lexer": "ipython3",
   "version": "3.7.9-final"
  },
  "orig_nbformat": 2,
  "kernelspec": {
   "name": "python3",
   "display_name": "Python 3",
   "language": "python"
  }
 },
 "nbformat": 4,
 "nbformat_minor": 2,
 "cells": [
  {
   "cell_type": "code",
   "execution_count": 35,
   "metadata": {},
   "outputs": [
    {
     "output_type": "stream",
     "name": "stdout",
     "text": [
      "킹쁘지 않은 날씨에요.\n"
     ]
    }
   ],
   "source": [
    "#if\n",
    "\n",
    "\n",
    "# weather =\"비\"\n",
    "# weather =\"맑음\"\n",
    "# weather =\"미세먼지\"\n",
    "\"\"\"\n",
    "weather = input(\"오늘 날씨는 어때요? \")\n",
    "\n",
    "if weather == \"비\" or weather == \"눈\": \n",
    "    print(\"우산을 챙기세요\")\n",
    "elif weather == \"미세먼지\":\n",
    "    print(\"마스크를 챙기세요\")\n",
    "else:\n",
    "    print(\"그냥 나가도 됩니다.\")\n",
    "\"\"\"\n",
    "#기온 ver\n",
    "temp = int(input(\"기온은 어때요? \"))\n",
    "if 30<=temp:\n",
    "    print(\"너무 더워요. 나가지마.\")\n",
    "elif 10<= temp and temp <30:\n",
    "    print(\"킹쁘지 않은 날씨에요.\")\n",
    "elif 0<= temp <10:\n",
    "    print(\"외투를 챙기세요.\")\n",
    "else:\n",
    "    print(\"너무 추우엉\")"
   ]
  },
  {
   "cell_type": "code",
   "execution_count": 5,
   "metadata": {},
   "outputs": [
    {
     "output_type": "stream",
     "name": "stdout",
     "text": [
      "대기번호: 1\n대기번호: 2\n대기번호: 3\n대기번호: 4\n대기번호: 5\n아이언맨, 커피가 준비되었습니다.\n토르, 커피가 준비되었습니다.\n그루트, 커피가 준비되었습니다.\n"
     ]
    }
   ],
   "source": [
    "#반복문 for\n",
    "\n",
    "\"\"\"\n",
    "print(\"대기번호: 1\")\n",
    "print(\"대기번호: 2\")\n",
    "print(\"대기번호: 3\")\n",
    "print(\"대기번호: 4\")\n",
    "\"\"\"\n",
    "\n",
    "#randrange()\n",
    "for waiting_no in range(1, 6):\n",
    "    print(\"대기번호: {0}\".format(waiting_no))\n",
    "#응용ver.\n",
    "starbucks = [\"아이언맨\", \"토르\", \"그루트\"]\n",
    "for customer in starbucks:\n",
    "    print(\"{0}, 커피가 준비되었습니다.\".format(customer))\n"
   ]
  },
  {
   "cell_type": "code",
   "execution_count": null,
   "metadata": {},
   "outputs": [],
   "source": [
    "#while\n",
    "\n",
    "customer = \"토르\"\n",
    "index = 5\n",
    "while index >= 1:\n",
    "    print(\"{0}, 커피가 준비 되었습니다. {1}번 남았습니다.\".format(customer, index))\n",
    "    index -= 1\n",
    "\n",
    "    if index == 0:\n",
    "        print(\"커피는 폐기처분 되었습니다\")\n",
    "\n",
    "\n",
    "\n",
    "#무한 루프\n",
    "customer = \"아이언맨\"\n",
    "index = 5\n",
    "while True:\n",
    "    print(\"{0}, 커피가 준비 되었습니다. 호출 {1}회\".format(customer, index))\n",
    "    index += 1  "
   ]
  },
  {
   "cell_type": "code",
   "execution_count": 3,
   "metadata": {},
   "outputs": [
    {
     "output_type": "stream",
     "name": "stdout",
     "text": [
      "토르, 커피가 준비 되었습니다.\n",
      "토르, 커피가 준비 되었습니다.\n",
      "토르, 커피가 준비 되었습니다.\n"
     ]
    }
   ],
   "source": [
    "customer = \"토르\"\n",
    "person = \"Unknown\"\n",
    "\n",
    "\n",
    "#조건이 맞을 때 까지 반복\n",
    "while person != customer :\n",
    "    print(\"{0}, 커피가 준비 되었습니다.\".format(customer))\n",
    "    person = input(\"이름이 어떻게 되세요? \")"
   ]
  },
  {
   "cell_type": "code",
   "execution_count": 6,
   "metadata": {},
   "outputs": [
    {
     "output_type": "stream",
     "name": "stdout",
     "text": [
      "1, 책을 읽어봐\n3, 책을 읽어봐\n4, 책을 읽어봐\n6, 책을 읽어봐\n오늘 수업 여기까지. 7는 교무실로 따라와\n"
     ]
    }
   ],
   "source": [
    "#continue & break\n",
    "\n",
    "absent = [2, 5] #결석\n",
    "no_book = [7] #책 안가지고 옴\n",
    "for student in range(1, 11): #1~10\n",
    "    if student in absent:\n",
    "        continue\n",
    "    elif student in no_book:\n",
    "        print(\"오늘 수업 여기까지. {0}는 교무실로 따라와\".format(student))\n",
    "        break\n",
    "    print(\"{0}, 책을 읽어봐\".format(student))\n",
    "    "
   ]
  },
  {
   "cell_type": "code",
   "execution_count": 17,
   "metadata": {},
   "outputs": [
    {
     "output_type": "stream",
     "name": "stdout",
     "text": [
      "[101, 102, 103, 104, 105]\n['IRON MAN', 'THOR', 'GROOT']\n"
     ]
    }
   ],
   "source": [
    "#한 줄 for\n",
    "\n",
    "#출석번호가 1234 앞에 100을 붙이기로 함 -> 101, 102 ...\n",
    "students = [1,2,3,4,5] \n",
    "students = [i+100 for i in students]\n",
    "print(students)\n",
    "\n",
    "#학생 이름을 길이로 변환\n",
    "students = [\"Iron Man\", \"Thor\", \"Groot\"]\n",
    "# students = [len(i) for i in students]\n",
    "\n",
    "#대문자\n",
    "students = [i.upper() for i in students]\n",
    "\n",
    "print(students)\n"
   ]
  },
  {
   "cell_type": "code",
   "execution_count": 28,
   "metadata": {},
   "outputs": [
    {
     "output_type": "stream",
     "name": "stdout",
     "text": [
      "[ ]  1번째 손님 (소요시간 : 31분\n[0]  2번째 손님 (소요시간 : 10분)\n[ ]  3번째 손님 (소요시간 : 20분\n[0]  4번째 손님 (소요시간 : 14분)\n[ ]  5번째 손님 (소요시간 : 33분\n[0]  6번째 손님 (소요시간 : 14분)\n[0]  7번째 손님 (소요시간 : 13분)\n[ ]  8번째 손님 (소요시간 : 16분\n[ ]  9번째 손님 (소요시간 : 24분\n[0]  10번째 손님 (소요시간 : 13분)\n[ ]  11번째 손님 (소요시간 : 49분\n[0]  12번째 손님 (소요시간 : 15분)\n[ ]  13번째 손님 (소요시간 : 38분\n[0]  14번째 손님 (소요시간 : 12분)\n[ ]  15번째 손님 (소요시간 : 41분\n[ ]  16번째 손님 (소요시간 : 38분\n[0]  17번째 손님 (소요시간 : 9분)\n[ ]  18번째 손님 (소요시간 : 23분\n[ ]  19번째 손님 (소요시간 : 19분\n[ ]  20번째 손님 (소요시간 : 26분\n[ ]  21번째 손님 (소요시간 : 30분\n[ ]  22번째 손님 (소요시간 : 18분\n[ ]  23번째 손님 (소요시간 : 48분\n[ ]  24번째 손님 (소요시간 : 43분\n[ ]  25번째 손님 (소요시간 : 35분\n[ ]  26번째 손님 (소요시간 : 42분\n[ ]  27번째 손님 (소요시간 : 16분\n[ ]  28번째 손님 (소요시간 : 34분\n[ ]  29번째 손님 (소요시간 : 22분\n[ ]  30번째 손님 (소요시간 : 49분\n[ ]  31번째 손님 (소요시간 : 28분\n[ ]  32번째 손님 (소요시간 : 31분\n[ ]  33번째 손님 (소요시간 : 39분\n[0]  34번째 손님 (소요시간 : 15분)\n[ ]  35번째 손님 (소요시간 : 49분\n[ ]  36번째 손님 (소요시간 : 43분\n[ ]  37번째 손님 (소요시간 : 23분\n[ ]  38번째 손님 (소요시간 : 49분\n[ ]  39번째 손님 (소요시간 : 38분\n[ ]  40번째 손님 (소요시간 : 28분\n[ ]  41번째 손님 (소요시간 : 24분\n[0]  42번째 손님 (소요시간 : 12분)\n[ ]  43번째 손님 (소요시간 : 49분\n[ ]  44번째 손님 (소요시간 : 32분\n[ ]  45번째 손님 (소요시간 : 28분\n[ ]  46번째 손님 (소요시간 : 19분\n[0]  47번째 손님 (소요시간 : 13분)\n[ ]  48번째 손님 (소요시간 : 20분\n[ ]  49번째 손님 (소요시간 : 29분\n[ ]  50번째 손님 (소요시간 : 17분\n총 탑승 승객 11분\n"
     ]
    }
   ],
   "source": [
    "#QUIZ 5\n",
    "\n",
    "\"\"\"\n",
    "Quiz) 당신은 카카오 서비스를 이용하는 택시 기사님입니다.\n",
    "50명의 승객과 매칭 기회가 있을 때, 총 탑승 승객 수를 구하는 프로그램을 작성하시오.\n",
    "\n",
    "조건 1: 승객별 운행 소요 시간은 5분 ~ 50분 사이의 난수로 정해집니다.\n",
    "조건 2: 당신은 소요 시간 5 ~ 15분 사이만 매칭해야 합니다.\n",
    "\n",
    "출력문 예제 \n",
    "[0] 1번째 손님 (소요시간 : 15분)\n",
    "[ ] 1번째 손님 (소요시간 : 50분)\n",
    "[0] 1번째 손님 (소요시간 : 5분)\n",
    "\n",
    "총 탑승 승객 : 2분\n",
    "\"\"\"\n",
    "from random import *\n",
    "\n",
    "cnt = 0 #총 탑승 승객 수\n",
    "\n",
    "for i in range(1, 51): #1~50 탑승객\n",
    "    time = randrange(5, 51) # 5 ~ 50분 소요시간\n",
    "    if 5 <= time <= 15: # 5 ~ 15분 이내의 손님, 탑승 승객 수 증가 처리\n",
    "        print(\"[0]  {0}번째 손님 (소요시간 : {1}분)\".format(i, time))\n",
    "        cnt += 1 \n",
    "    else: #매칭 실패한 경우\n",
    "        print(\"[ ]  {0}번째 손님 (소요시간 : {1}분\".format(i, time))\n",
    "        \n",
    "print(\"총 탑승 승객 {0}분\".format(cnt))\n",
    "\n"
   ]
  }
 ]
}